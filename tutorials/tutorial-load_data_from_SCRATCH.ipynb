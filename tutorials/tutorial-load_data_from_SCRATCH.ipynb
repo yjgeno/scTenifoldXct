{
 "cells": [
  {
   "cell_type": "markdown",
   "id": "31c790a4",
   "metadata": {},
   "source": [
    "### Load data to build AnnData\n",
    "To prepare a required AnnData input for scTenifoldXct, one needs three files: raw counts, metadata for genes and metadata for cells. For counts, scTenifoldXct accepts files with attributes \"h5ad\", \"csv\", \"xlsx\", \"h5\", \"loom\", \"mtx\", \"txt\". Metadata should be in \"csv\" like format."
   ]
  },
  {
   "cell_type": "code",
   "execution_count": 1,
   "id": "af80d910",
   "metadata": {},
   "outputs": [
    {
     "name": "stdout",
     "output_type": "stream",
     "text": [
      "loading counts from data\\filtered_gene_bc_matrices\\X.txt...\n",
      "making counts sparse...\n",
      "adding metadata for variables...\n",
      "adding metadata for observations...\n",
      "normalizing counts and save it to adata.layers[\"log1p\"]\n",
      "AnnData object with n_obs × n_vars = 7792 × 885\n",
      "    obs: 'cell_type'\n",
      "    var: 'gene_name'\n",
      "    uns: 'log1p'\n",
      "    layers: 'raw', 'log1p'\n"
     ]
    }
   ],
   "source": [
    "# example\n",
    "\n",
    "from scTenifoldXct.dataLoader import build_adata\n",
    "from os import path\n",
    "\n",
    "data_dir = path.join(\"data\", \"filtered_gene_bc_matrices\")\n",
    "\n",
    "counts_path = str(path.join(data_dir, \"X.txt\"))\n",
    "gene_path = str(path.join(data_dir, \"g.txt\"))\n",
    "cell_path = str(path.join(data_dir, \"c.txt\"))\n",
    "\n",
    "adata = build_adata(counts_path, gene_path, cell_path, delimiter=',')\n",
    "adata.var.columns = ['gene_name']\n",
    "adata.obs.columns = ['cell_type']\n",
    "\n",
    "print(adata)"
   ]
  },
  {
   "cell_type": "code",
   "execution_count": 2,
   "id": "d2b6829c-9df4-4dca-a2d8-bd6cf18ed1ae",
   "metadata": {
    "scrolled": false,
    "tags": []
   },
   "outputs": [
    {
     "data": {
      "text/html": [
       "<div>\n",
       "<style scoped>\n",
       "    .dataframe tbody tr th:only-of-type {\n",
       "        vertical-align: middle;\n",
       "    }\n",
       "\n",
       "    .dataframe tbody tr th {\n",
       "        vertical-align: top;\n",
       "    }\n",
       "\n",
       "    .dataframe thead th {\n",
       "        text-align: right;\n",
       "    }\n",
       "</style>\n",
       "<table border=\"1\" class=\"dataframe\">\n",
       "  <thead>\n",
       "    <tr style=\"text-align: right;\">\n",
       "      <th></th>\n",
       "      <th>cell_type</th>\n",
       "    </tr>\n",
       "  </thead>\n",
       "  <tbody>\n",
       "    <tr>\n",
       "      <th>0</th>\n",
       "      <td>e17.5-epi</td>\n",
       "    </tr>\n",
       "    <tr>\n",
       "      <th>1</th>\n",
       "      <td>e17.5-epi</td>\n",
       "    </tr>\n",
       "    <tr>\n",
       "      <th>2</th>\n",
       "      <td>e17.5-epi</td>\n",
       "    </tr>\n",
       "    <tr>\n",
       "      <th>3</th>\n",
       "      <td>e17.5-epi</td>\n",
       "    </tr>\n",
       "    <tr>\n",
       "      <th>4</th>\n",
       "      <td>e17.5-epi</td>\n",
       "    </tr>\n",
       "  </tbody>\n",
       "</table>\n",
       "</div>"
      ],
      "text/plain": [
       "   cell_type\n",
       "0  e17.5-epi\n",
       "1  e17.5-epi\n",
       "2  e17.5-epi\n",
       "3  e17.5-epi\n",
       "4  e17.5-epi"
      ]
     },
     "execution_count": 2,
     "metadata": {},
     "output_type": "execute_result"
    }
   ],
   "source": [
    "adata.obs.head()"
   ]
  },
  {
   "cell_type": "code",
   "execution_count": 3,
   "id": "fb8bc0a9",
   "metadata": {},
   "outputs": [
    {
     "data": {
      "text/html": [
       "<div>\n",
       "<style scoped>\n",
       "    .dataframe tbody tr th:only-of-type {\n",
       "        vertical-align: middle;\n",
       "    }\n",
       "\n",
       "    .dataframe tbody tr th {\n",
       "        vertical-align: top;\n",
       "    }\n",
       "\n",
       "    .dataframe thead th {\n",
       "        text-align: right;\n",
       "    }\n",
       "</style>\n",
       "<table border=\"1\" class=\"dataframe\">\n",
       "  <thead>\n",
       "    <tr style=\"text-align: right;\">\n",
       "      <th></th>\n",
       "      <th>gene_name</th>\n",
       "    </tr>\n",
       "  </thead>\n",
       "  <tbody>\n",
       "    <tr>\n",
       "      <th>0</th>\n",
       "      <td>LY96</td>\n",
       "    </tr>\n",
       "    <tr>\n",
       "      <th>1</th>\n",
       "      <td>RIMS1</td>\n",
       "    </tr>\n",
       "    <tr>\n",
       "      <th>2</th>\n",
       "      <td>COL9A1</td>\n",
       "    </tr>\n",
       "    <tr>\n",
       "      <th>3</th>\n",
       "      <td>SEMA4C</td>\n",
       "    </tr>\n",
       "    <tr>\n",
       "      <th>4</th>\n",
       "      <td>IL1R2</td>\n",
       "    </tr>\n",
       "  </tbody>\n",
       "</table>\n",
       "</div>"
      ],
      "text/plain": [
       "  gene_name\n",
       "0      LY96\n",
       "1     RIMS1\n",
       "2    COL9A1\n",
       "3    SEMA4C\n",
       "4     IL1R2"
      ]
     },
     "execution_count": 3,
     "metadata": {},
     "output_type": "execute_result"
    }
   ],
   "source": [
    "adata.var.head()"
   ]
  },
  {
   "cell_type": "code",
   "execution_count": null,
   "id": "ca8527a8",
   "metadata": {},
   "outputs": [],
   "source": []
  }
 ],
 "metadata": {
  "kernelspec": {
   "display_name": "Python 3 (ipykernel)",
   "language": "python",
   "name": "python3"
  },
  "language_info": {
   "codemirror_mode": {
    "name": "ipython",
    "version": 3
   },
   "file_extension": ".py",
   "mimetype": "text/x-python",
   "name": "python",
   "nbconvert_exporter": "python",
   "pygments_lexer": "ipython3",
   "version": "3.9.13"
  }
 },
 "nbformat": 4,
 "nbformat_minor": 5
}
