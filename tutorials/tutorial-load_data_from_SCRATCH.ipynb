{
 "cells": [
  {
   "cell_type": "markdown",
   "id": "31c790a4",
   "metadata": {},
   "source": [
    "### Load data to build AnnData\n",
    "To prepare a required AnnData input for scTenifoldXct, one needs three files: raw counts, metadata for genes and metadata for cells. For counts, scTenifoldXct accepts files with attributes \"h5ad\", \"csv\", \"xlsx\", \"h5\", \"loom\", \"mtx\", \"txt\". Metadata should be in \"csv\" like format."
   ]
  },
  {
   "cell_type": "code",
   "execution_count": 1,
   "id": "4adfba02",
   "metadata": {},
   "outputs": [
    {
     "name": "stdout",
     "output_type": "stream",
     "text": [
      "loading counts from data\\filtered_gene_bc_matrices\\X.txt\n",
      "adding metadata for genes...\n",
      "adding metadata for cells...\n",
      "normalizing counts and save it to adata.layers[\"log1p\"]\n",
      "making counts sparse...\n",
      "AnnData object with n_obs × n_vars = 7792 × 885\n",
      "    obs: 'cell_type'\n",
      "    uns: 'log1p'\n",
      "    layers: 'raw', 'log1p'\n"
     ]
    }
   ],
   "source": [
    "# example\n",
    "\n",
    "from scTenifoldXct.dataLoader import build_adata\n",
    "from os import path\n",
    "\n",
    "data_dir = path.join(\"data\", \"filtered_gene_bc_matrices\")\n",
    "counts_path = str(path.join(data_dir, \"X.txt\"))\n",
    "gene_path = str(path.join(data_dir, \"g.txt\"))\n",
    "cell_path = str(path.join(data_dir, \"c.txt\"))\n",
    "\n",
    "adata = build_adata(counts_path, \n",
    "                    gene_path, \n",
    "                    cell_path, \n",
    "                    meta_cell_cols=['cell_type'], \n",
    "                    delimiter=',', \n",
    "                    transpose = True,\n",
    "                   )\n",
    "\n",
    "print(adata)"
   ]
  },
  {
   "cell_type": "code",
   "execution_count": 2,
   "id": "d2b6829c-9df4-4dca-a2d8-bd6cf18ed1ae",
   "metadata": {
    "scrolled": false,
    "tags": []
   },
   "outputs": [
    {
     "data": {
      "text/plain": [
       "cell_type\n",
       "e17.5-mes    4722\n",
       "e17.5-epi    3070\n",
       "dtype: int64"
      ]
     },
     "execution_count": 2,
     "metadata": {},
     "output_type": "execute_result"
    }
   ],
   "source": [
    "adata.obs.value_counts()"
   ]
  },
  {
   "cell_type": "code",
   "execution_count": 3,
   "id": "fb8bc0a9",
   "metadata": {},
   "outputs": [
    {
     "data": {
      "text/html": [
       "<div>\n",
       "<style scoped>\n",
       "    .dataframe tbody tr th:only-of-type {\n",
       "        vertical-align: middle;\n",
       "    }\n",
       "\n",
       "    .dataframe tbody tr th {\n",
       "        vertical-align: top;\n",
       "    }\n",
       "\n",
       "    .dataframe thead th {\n",
       "        text-align: right;\n",
       "    }\n",
       "</style>\n",
       "<table border=\"1\" class=\"dataframe\">\n",
       "  <thead>\n",
       "    <tr style=\"text-align: right;\">\n",
       "      <th></th>\n",
       "    </tr>\n",
       "  </thead>\n",
       "  <tbody>\n",
       "    <tr>\n",
       "      <th>LY96</th>\n",
       "    </tr>\n",
       "    <tr>\n",
       "      <th>RIMS1</th>\n",
       "    </tr>\n",
       "    <tr>\n",
       "      <th>COL9A1</th>\n",
       "    </tr>\n",
       "    <tr>\n",
       "      <th>SEMA4C</th>\n",
       "    </tr>\n",
       "    <tr>\n",
       "      <th>IL1R2</th>\n",
       "    </tr>\n",
       "  </tbody>\n",
       "</table>\n",
       "</div>"
      ],
      "text/plain": [
       "Empty DataFrame\n",
       "Columns: []\n",
       "Index: [LY96, RIMS1, COL9A1, SEMA4C, IL1R2]"
      ]
     },
     "execution_count": 3,
     "metadata": {},
     "output_type": "execute_result"
    }
   ],
   "source": [
    "adata.var.head()"
   ]
  },
  {
   "cell_type": "code",
   "execution_count": null,
   "id": "ca8527a8",
   "metadata": {},
   "outputs": [],
   "source": []
  }
 ],
 "metadata": {
  "kernelspec": {
   "display_name": "Python 3 (ipykernel)",
   "language": "python",
   "name": "python3"
  },
  "language_info": {
   "codemirror_mode": {
    "name": "ipython",
    "version": 3
   },
   "file_extension": ".py",
   "mimetype": "text/x-python",
   "name": "python",
   "nbconvert_exporter": "python",
   "pygments_lexer": "ipython3",
   "version": "3.9.13"
  }
 },
 "nbformat": 4,
 "nbformat_minor": 5
}
