{
 "cells": [
  {
   "cell_type": "code",
   "execution_count": 1,
   "id": "0a8a2411",
   "metadata": {},
   "outputs": [],
   "source": [
    "import scanpy as sc\n",
    "\n",
    "import warnings\n",
    "warnings.filterwarnings(\"ignore\")"
   ]
  },
  {
   "cell_type": "code",
   "execution_count": 2,
   "id": "47fc1336",
   "metadata": {},
   "outputs": [],
   "source": [
    "import scTenifoldXct as st"
   ]
  },
  {
   "cell_type": "code",
   "execution_count": 3,
   "id": "4571525c",
   "metadata": {},
   "outputs": [
    {
     "data": {
      "text/plain": [
       "AnnData object with n_obs × n_vars = 4096 × 2608\n",
       "    obs: 'n_genes', 'percent_mito', 'n_counts', 'louvain', 'patient_id', 'patient_tumorsection', 'NormalvsTumor', 'patientno', 'PNC', 'PIC', 'ViralvsNonViral', 'ident', 'batch'\n",
       "    var: 'gene_ids', 'n_cells'\n",
       "    obsm: 'X_pca', 'X_umap'\n",
       "    layers: 'log1p', 'raw'"
      ]
     },
     "execution_count": 3,
     "metadata": {},
     "output_type": "execute_result"
    }
   ],
   "source": [
    "# load scRNA-seq data\n",
    "adata = sc.read_h5ad('data/adata_merge_example.h5ad')\n",
    "adata"
   ]
  },
  {
   "cell_type": "code",
   "execution_count": 4,
   "id": "d0f14169",
   "metadata": {},
   "outputs": [
    {
     "data": {
      "text/plain": [
       "((2057, 2608), (2039, 2608))"
      ]
     },
     "execution_count": 4,
     "metadata": {},
     "output_type": "execute_result"
    }
   ],
   "source": [
    "# Normal vs Tumor samples\n",
    "ada_N = adata[adata.obs['NormalvsTumor'] == 'N', :].copy()\n",
    "ada_T = adata[adata.obs['NormalvsTumor'] == 'T', :].copy()\n",
    "ada_N.shape, ada_T.shape"
   ]
  },
  {
   "cell_type": "code",
   "execution_count": 5,
   "id": "beb5a4aa-d8c9-49d5-8f22-0c94e07289be",
   "metadata": {
    "jupyter": {
     "outputs_hidden": true
    },
    "scrolled": false,
    "tags": []
   },
   "outputs": [
    {
     "name": "stdout",
     "output_type": "stream",
     "text": [
      "(cell, feature): (65, 2608)\n",
      "(cell, feature): (36, 2608)\n",
      "selected 249 LR pairs\n",
      "building GRN of B cells...\n",
      "ray init, using 16 CPUs\n",
      "execution time of making pcNet: 36.17 s\n",
      "building GRN of Fibroblasts...\n",
      "ray init, using 16 CPUs\n",
      "execution time of making pcNet: 21.18 s\n",
      "building correspondence...\n",
      "concatenating GRNs...\n",
      "scTenifoldXct init completed\n"
     ]
    }
   ],
   "source": [
    "# build a scTenifoldXct object\n",
    "xct_N = st.scTenifoldXct(data = ada_N, \n",
    "                        cell_names = ['B cells', 'Fibroblasts'],\n",
    "                        obs_label = \"ident\",\n",
    "                        rebuild_GRN = True, # timer\n",
    "                        GRN_file_dir = 'Net_example/Net_B2Fib_N/',  \n",
    "                        verbose = True,\n",
    "                        n_cpus = -1)"
   ]
  },
  {
   "cell_type": "code",
   "execution_count": 7,
   "id": "8e99d2b5",
   "metadata": {},
   "outputs": [
    {
     "name": "stdout",
     "output_type": "stream",
     "text": [
      "(cell, feature): (39, 2608)\n",
      "(cell, feature): (59, 2608)\n",
      "selected 338 LR pairs\n",
      "building GRN of B cells...\n",
      "ray init, using 8 CPUs\n",
      "execution time of making pcNet: 23.31 s\n",
      "building GRN of Fibroblasts...\n",
      "ray init, using 8 CPUs\n",
      "execution time of making pcNet: 30.61 s\n",
      "building correspondence...\n",
      "concatenating GRNs...\n",
      "scTenifoldXct init completed\n"
     ]
    }
   ],
   "source": [
    "xct_T = st.scTenifoldXct(data = ada_T, \n",
    "                        cell_names = ['B cells', 'Fibroblasts'],\n",
    "                        obs_label = \"ident\",\n",
    "                        rebuild_GRN = True, \n",
    "                        GRN_file_dir = 'Net_example/Net_B2Fib_T/',  \n",
    "                        verbose = True,\n",
    "                        n_cpus = 8)"
   ]
  },
  {
   "cell_type": "code",
   "execution_count": 8,
   "id": "92b97a8a",
   "metadata": {},
   "outputs": [
    {
     "name": "stdout",
     "output_type": "stream",
     "text": [
      "merging samples and building correspondence...\n",
      "merge_scTenifoldXct init completed\n"
     ]
    }
   ],
   "source": [
    "# merge two scTenifoldXct objects\n",
    "XCTs = st.merge_scTenifoldXct(xct_T, xct_N)"
   ]
  },
  {
   "cell_type": "code",
   "execution_count": null,
   "id": "524baf29",
   "metadata": {},
   "outputs": [],
   "source": [
    "# # show model architecture\n",
    "# XCTs._nn_trainer.arch()"
   ]
  },
  {
   "cell_type": "code",
   "execution_count": null,
   "id": "02f70c81",
   "metadata": {},
   "outputs": [],
   "source": [
    "# load model if trained\n",
    "# XCTs.trainer.load_model_states('model_mergeXct')"
   ]
  },
  {
   "cell_type": "code",
   "execution_count": 9,
   "id": "3b060efa",
   "metadata": {
    "scrolled": true
   },
   "outputs": [
    {
     "name": "stderr",
     "output_type": "stream",
     "text": [
      "training...: 100%|████████████████████████████████████████████████████████████████████████████| 1000/1000 [20:14<00:00,  1.21s/it]\n"
     ]
    },
    {
     "data": {
      "text/plain": [
       "(10432, 3)"
      ]
     },
     "execution_count": 9,
     "metadata": {},
     "output_type": "execute_result"
    }
   ],
   "source": [
    "# get embeddings\n",
    "emb = XCTs.get_embeds(train = True)\n",
    "emb.shape"
   ]
  },
  {
   "cell_type": "code",
   "execution_count": 10,
   "id": "876af002",
   "metadata": {},
   "outputs": [
    {
     "name": "stdout",
     "output_type": "stream",
     "text": [
      "save model to model_mergeXct_B2Fib/model_1.th\n",
      "save model to model_mergeXct_B2Fib/model_2.th\n",
      "save model to model_mergeXct_B2Fib/model_3.th\n",
      "save model to model_mergeXct_B2Fib/model_4.th\n"
     ]
    }
   ],
   "source": [
    "# # save model\n",
    "XCTs.trainer.save_model_states('model_mergeXct_B2Fib')"
   ]
  },
  {
   "cell_type": "code",
   "execution_count": null,
   "id": "ab770824",
   "metadata": {},
   "outputs": [],
   "source": [
    "# # show loss (only when train)\n",
    "# XCTs.plot_losses()"
   ]
  },
  {
   "cell_type": "code",
   "execution_count": 11,
   "id": "51d74be6-580d-454b-aa88-485b93f63a63",
   "metadata": {
    "scrolled": false
   },
   "outputs": [
    {
     "name": "stdout",
     "output_type": "stream",
     "text": [
      "computing pair-wise euclidean distances...\n",
      "computing pair-wise euclidean distances...\n",
      "merged pair-wise distances\n",
      "\n",
      "Total enriched: 4 / 6801664\n"
     ]
    },
    {
     "data": {
      "text/html": [
       "<div>\n",
       "<style scoped>\n",
       "    .dataframe tbody tr th:only-of-type {\n",
       "        vertical-align: middle;\n",
       "    }\n",
       "\n",
       "    .dataframe tbody tr th {\n",
       "        vertical-align: top;\n",
       "    }\n",
       "\n",
       "    .dataframe thead th {\n",
       "        text-align: right;\n",
       "    }\n",
       "</style>\n",
       "<table border=\"1\" class=\"dataframe\">\n",
       "  <thead>\n",
       "    <tr style=\"text-align: right;\">\n",
       "      <th></th>\n",
       "      <th>ligand</th>\n",
       "      <th>receptor</th>\n",
       "      <th>dist</th>\n",
       "      <th>correspondence</th>\n",
       "      <th>dist</th>\n",
       "      <th>correspondence</th>\n",
       "      <th>diff2</th>\n",
       "      <th>FC</th>\n",
       "      <th>p_val</th>\n",
       "      <th>q_val</th>\n",
       "      <th>enriched_rank</th>\n",
       "    </tr>\n",
       "  </thead>\n",
       "  <tbody>\n",
       "    <tr>\n",
       "      <th>VEGFA_NRP1</th>\n",
       "      <td>VEGFA</td>\n",
       "      <td>NRP1</td>\n",
       "      <td>0.011350</td>\n",
       "      <td>0.938058</td>\n",
       "      <td>0.019848</td>\n",
       "      <td>0.000000</td>\n",
       "      <td>0.000072</td>\n",
       "      <td>15.011393</td>\n",
       "      <td>0.000107</td>\n",
       "      <td>0.018370</td>\n",
       "      <td>1</td>\n",
       "    </tr>\n",
       "    <tr>\n",
       "      <th>MDK_SDC2</th>\n",
       "      <td>MDK</td>\n",
       "      <td>SDC2</td>\n",
       "      <td>0.011746</td>\n",
       "      <td>1.418245</td>\n",
       "      <td>0.003256</td>\n",
       "      <td>13.266869</td>\n",
       "      <td>0.000072</td>\n",
       "      <td>14.985146</td>\n",
       "      <td>0.000108</td>\n",
       "      <td>0.018579</td>\n",
       "      <td>2</td>\n",
       "    </tr>\n",
       "    <tr>\n",
       "      <th>MDK_ITGA6</th>\n",
       "      <td>MDK</td>\n",
       "      <td>ITGA6</td>\n",
       "      <td>0.017074</td>\n",
       "      <td>0.082409</td>\n",
       "      <td>0.009189</td>\n",
       "      <td>1.420393</td>\n",
       "      <td>0.000062</td>\n",
       "      <td>12.922403</td>\n",
       "      <td>0.000325</td>\n",
       "      <td>0.040788</td>\n",
       "      <td>3</td>\n",
       "    </tr>\n",
       "    <tr>\n",
       "      <th>ANG_PLXNB2</th>\n",
       "      <td>ANG</td>\n",
       "      <td>PLXNB2</td>\n",
       "      <td>0.008679</td>\n",
       "      <td>0.988701</td>\n",
       "      <td>0.016268</td>\n",
       "      <td>0.249772</td>\n",
       "      <td>0.000058</td>\n",
       "      <td>11.972731</td>\n",
       "      <td>0.000540</td>\n",
       "      <td>0.049846</td>\n",
       "      <td>4</td>\n",
       "    </tr>\n",
       "  </tbody>\n",
       "</table>\n",
       "</div>"
      ],
      "text/plain": [
       "           ligand receptor      dist  correspondence      dist  \\\n",
       "VEGFA_NRP1  VEGFA     NRP1  0.011350        0.938058  0.019848   \n",
       "MDK_SDC2      MDK     SDC2  0.011746        1.418245  0.003256   \n",
       "MDK_ITGA6     MDK    ITGA6  0.017074        0.082409  0.009189   \n",
       "ANG_PLXNB2    ANG   PLXNB2  0.008679        0.988701  0.016268   \n",
       "\n",
       "            correspondence     diff2         FC     p_val     q_val  \\\n",
       "VEGFA_NRP1        0.000000  0.000072  15.011393  0.000107  0.018370   \n",
       "MDK_SDC2         13.266869  0.000072  14.985146  0.000108  0.018579   \n",
       "MDK_ITGA6         1.420393  0.000062  12.922403  0.000325  0.040788   \n",
       "ANG_PLXNB2        0.249772  0.000058  11.972731  0.000540  0.049846   \n",
       "\n",
       "            enriched_rank  \n",
       "VEGFA_NRP1              1  \n",
       "MDK_SDC2                2  \n",
       "MDK_ITGA6               3  \n",
       "ANG_PLXNB2              4  "
      ]
     },
     "execution_count": 11,
     "metadata": {},
     "output_type": "execute_result"
    }
   ],
   "source": [
    "# get significant L-R pairs\n",
    "XCTs.nn_aligned_diff(emb) \n",
    "xcts_pairs_diff = XCTs.chi2_diff_test()\n",
    "xcts_pairs_diff"
   ]
  },
  {
   "cell_type": "code",
   "execution_count": null,
   "id": "d2b6829c-9df4-4dca-a2d8-bd6cf18ed1ae",
   "metadata": {
    "scrolled": false,
    "tags": []
   },
   "outputs": [],
   "source": []
  }
 ],
 "metadata": {
  "kernelspec": {
   "display_name": "Python 3 (ipykernel)",
   "language": "python",
   "name": "python3"
  },
  "language_info": {
   "codemirror_mode": {
    "name": "ipython",
    "version": 3
   },
   "file_extension": ".py",
   "mimetype": "text/x-python",
   "name": "python",
   "nbconvert_exporter": "python",
   "pygments_lexer": "ipython3",
   "version": "3.9.12"
  }
 },
 "nbformat": 4,
 "nbformat_minor": 5
}
