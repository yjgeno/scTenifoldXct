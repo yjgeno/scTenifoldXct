{
 "cells": [
  {
   "cell_type": "code",
   "execution_count": 1,
   "id": "040556df-8a0c-470d-b6d7-3c24983fdfc1",
   "metadata": {},
   "outputs": [],
   "source": [
    "import numpy as np\n",
    "import scanpy as sc\n",
    "import scipy.sparse\n",
    "\n",
    "import sys\n",
    "sys.path.append(\"../\")\n",
    "sys.path.append(\"../../scTenifoldpy\")\n",
    "from scTenifoldXct.core import scTenifoldXct\n",
    "from scTenifoldXct.visualization import get_Xct_pairs, plot_XNet\n",
    "\n",
    "%load_ext autoreload\n",
    "%autoreload 2"
   ]
  },
  {
   "cell_type": "code",
   "execution_count": 3,
   "id": "beb5a4aa-d8c9-49d5-8f22-0c94e07289be",
   "metadata": {
    "jupyter": {
     "outputs_hidden": true
    },
    "tags": []
   },
   "outputs": [
    {
     "name": "stderr",
     "output_type": "stream",
     "text": [
      "... storing 'paul15_clusters' as categorical\n",
      "Trying to set attribute `._uns` of view, copying.\n"
     ]
    },
    {
     "name": "stdout",
     "output_type": "stream",
     "text": [
      "(cell, feature): (373, 100)\n",
      "(cell, feature): (186, 100)\n",
      "Selected 0 LR pairs\n",
      "building GRN 14Mo...\n",
      "make_networks  processing time:  24.78328110000001\n",
      "cal_pcNet  processing time:  24.783370099999985\n",
      "GRN of 14Mo has been built\n",
      "building GRN 15Mo...\n",
      "make_networks  processing time:  21.60356109999998\n",
      "cal_pcNet  processing time:  21.6036962\n",
      "GRN of 15Mo has been built\n",
      "building correspondence...\n",
      "Trying to concatenate pcnet using <scTenifoldXct.core.GRN object at 0x000002B4809433D0>\n",
      "Net(\n",
      "  (linear1): Linear(in_features=373, out_features=132, bias=True)\n",
      "  (linear2): Linear(in_features=132, out_features=33, bias=True)\n",
      "  (linear3): Linear(in_features=33, out_features=3, bias=True)\n",
      ")\n",
      "Net(\n",
      "  (linear1): Linear(in_features=186, out_features=92, bias=True)\n",
      "  (linear2): Linear(in_features=92, out_features=23, bias=True)\n",
      "  (linear3): Linear(in_features=23, out_features=3, bias=True)\n",
      ")\n"
     ]
    }
   ],
   "source": [
    "ada = sc.datasets.paul15()[:, :100]  # raw counts\n",
    "ada.layers['raw'] = np.asarray(ada.X, dtype=int)\n",
    "sc.pp.log1p(ada)\n",
    "ada.layers['log1p'] = ada.X.copy()\n",
    "\n",
    "xct_obj = scTenifoldXct(data=ada, \n",
    "                        cell_names=['14Mo', '15Mo'],\n",
    "                        obs_label=\"paul15_clusters\",\n",
    "                        rebuild_GRN=True, \n",
    "                        GRN_file_dir='./Net_for_Test',  # rebuilding time 30 secs\n",
    "                        query_DB=None, verbose=True)"
   ]
  },
  {
   "cell_type": "code",
   "execution_count": 10,
   "id": "3e4b43e2",
   "metadata": {},
   "outputs": [
    {
     "data": {
      "text/plain": [
       "AnnData object with n_obs × n_vars = 5011 × 17328\n",
       "    obs: 'orig.ident', 'nCount_RNA', 'nFeature_RNA', 'patient.id', 'condition', 'labels', 'ident'\n",
       "    var: 'vst.mean', 'vst.variance', 'vst.variance.expected', 'vst.variance.standardized', 'vst.variable'"
      ]
     },
     "execution_count": 10,
     "metadata": {},
     "output_type": "execute_result"
    }
   ],
   "source": [
    "ada = sc.read_h5ad('../data/LS.h5ad')\n",
    "ada"
   ]
  },
  {
   "cell_type": "code",
   "execution_count": null,
   "id": "64ca4dc1",
   "metadata": {},
   "outputs": [],
   "source": [
    "ada = sc.datasets.paul15()[:, :100]  # raw counts\n",
    "ada.layers['raw'] = np.asarray(ada.X, dtype=int)\n",
    "sc.pp.log1p(ada)\n",
    "ada.layers['log1p'] = ada.X.copy()\n",
    "\n",
    "xct_obj = scTenifoldXct(data=ada, \n",
    "                        cell_names=['14Mo', '15Mo'],\n",
    "                        obs_label=\"paul15_clusters\",\n",
    "                        rebuild_GRN=True, \n",
    "                        GRN_file_dir='./Net_for_Test',  # rebuilding time 30 secs\n",
    "                        query_DB=None, verbose=True)"
   ]
  },
  {
   "cell_type": "code",
   "execution_count": 4,
   "id": "9034850b-2c08-4e36-9771-959585ba54c5",
   "metadata": {},
   "outputs": [
    {
     "data": {
      "text/plain": [
       "[]"
      ]
     },
     "execution_count": 4,
     "metadata": {},
     "output_type": "execute_result"
    }
   ],
   "source": [
    "xct_obj._candidates"
   ]
  },
  {
   "cell_type": "code",
   "execution_count": 5,
   "id": "63c7f107-6e5a-4e1b-bdd8-7fd89ddae173",
   "metadata": {
    "jupyter": {
     "outputs_hidden": true
    },
    "tags": []
   },
   "outputs": [
    {
     "name": "stdout",
     "output_type": "stream",
     "text": [
      "1 547.4581298828125\n",
      "10 540.89208984375\n",
      "20 305.087158203125\n",
      "30 307.7550048828125\n",
      "40 241.76800537109375\n",
      "50 231.66885375976562\n",
      "60 225.5106964111328\n",
      "70 216.9022216796875\n",
      "80 209.27674865722656\n",
      "90 202.20814514160156\n",
      "100 195.55271911621094\n",
      "110 189.39608764648438\n",
      "120 184.0304412841797\n",
      "130 180.13319396972656\n",
      "140 177.64976501464844\n",
      "150 175.61720275878906\n",
      "160 173.74014282226562\n",
      "170 172.09378051757812\n",
      "180 174.64523315429688\n",
      "190 170.4765625\n",
      "200 170.54649353027344\n",
      "210 168.6890411376953\n",
      "220 167.5848388671875\n",
      "230 166.6317138671875\n",
      "240 165.99664306640625\n",
      "250 165.3920135498047\n",
      "260 165.01470947265625\n",
      "270 165.80563354492188\n",
      "280 164.22164916992188\n",
      "290 163.8953399658203\n",
      "300 163.39111328125\n",
      "310 162.99600219726562\n",
      "320 162.7292938232422\n",
      "330 162.9435272216797\n",
      "340 162.66831970214844\n",
      "350 163.04754638671875\n",
      "360 161.75650024414062\n",
      "370 161.43951416015625\n",
      "380 161.13172912597656\n",
      "390 161.3242950439453\n",
      "400 161.4548797607422\n",
      "410 160.68572998046875\n",
      "420 160.67686462402344\n",
      "430 160.5183868408203\n",
      "440 160.30967712402344\n",
      "450 161.5770721435547\n",
      "460 160.45770263671875\n",
      "470 159.95889282226562\n",
      "480 159.4422607421875\n",
      "490 159.29534912109375\n",
      "500 160.33872985839844\n",
      "510 160.45401000976562\n",
      "520 159.64036560058594\n",
      "530 159.196533203125\n",
      "540 158.8116912841797\n",
      "550 158.8349151611328\n",
      "560 159.1834259033203\n",
      "570 160.56300354003906\n",
      "580 158.98037719726562\n",
      "590 158.64801025390625\n",
      "600 158.2918243408203\n",
      "610 158.2032470703125\n",
      "620 158.2914276123047\n",
      "630 159.25083923339844\n",
      "640 158.65196228027344\n",
      "650 157.9463653564453\n",
      "660 157.9053192138672\n",
      "670 157.81829833984375\n",
      "680 157.75216674804688\n",
      "690 164.73423767089844\n",
      "700 157.83226013183594\n",
      "710 158.2089385986328\n",
      "720 157.62705993652344\n",
      "730 157.62799072265625\n",
      "740 157.50241088867188\n",
      "750 157.42514038085938\n",
      "760 157.36367797851562\n",
      "770 157.3098907470703\n",
      "780 157.25550842285156\n",
      "790 157.2162628173828\n",
      "800 165.75025939941406\n",
      "810 157.3710479736328\n",
      "820 157.56600952148438\n",
      "830 157.36465454101562\n",
      "840 157.0757598876953\n",
      "850 157.06301879882812\n",
      "860 157.00169372558594\n",
      "870 156.9500732421875\n",
      "880 156.90672302246094\n",
      "890 156.869140625\n",
      "900 156.83175659179688\n",
      "910 156.79776000976562\n",
      "920 156.9713592529297\n",
      "930 157.1522674560547\n",
      "940 156.7692413330078\n",
      "950 156.7849884033203\n",
      "960 156.70680236816406\n",
      "970 156.64820861816406\n",
      "980 156.63890075683594\n",
      "990 156.593994140625\n",
      "1000 156.5629425048828\n"
     ]
    },
    {
     "data": {
      "image/png": "[encoded data removed]",
      "text/plain": [
       "<Figure size 480x400 with 1 Axes>"
      ]
     },
     "metadata": {
      "needs_background": "light"
     },
     "output_type": "display_data"
    },
    {
     "name": "stdout",
     "output_type": "stream",
     "text": [
      "computing pair-wise euclidean distances...\n",
      "adding column 'correspondence'...\n"
     ]
    }
   ],
   "source": [
    "emb, losses = xct_obj.train_nn(n_steps= 1000, lr = 0.001, dist_metric=\"euclidean\")"
   ]
  },
  {
   "cell_type": "code",
   "execution_count": 6,
   "id": "b9020d1e-fc85-4d05-bf1c-5977b803abe0",
   "metadata": {
    "tags": []
   },
   "outputs": [
    {
     "data": {
      "text/html": [
       "<div>\n",
       "<style scoped>\n",
       "    .dataframe tbody tr th:only-of-type {\n",
       "        vertical-align: middle;\n",
       "    }\n",
       "\n",
       "    .dataframe tbody tr th {\n",
       "        vertical-align: top;\n",
       "    }\n",
       "\n",
       "    .dataframe thead th {\n",
       "        text-align: right;\n",
       "    }\n",
       "</style>\n",
       "<table border=\"1\" class=\"dataframe\">\n",
       "  <thead>\n",
       "    <tr style=\"text-align: right;\">\n",
       "      <th></th>\n",
       "      <th>ligand</th>\n",
       "      <th>receptor</th>\n",
       "      <th>dist</th>\n",
       "      <th>correspondence</th>\n",
       "    </tr>\n",
       "  </thead>\n",
       "  <tbody>\n",
       "    <tr>\n",
       "      <th>0610007L01Rik_0610007L01Rik</th>\n",
       "      <td>0610007L01Rik</td>\n",
       "      <td>0610007L01Rik</td>\n",
       "      <td>0.025171</td>\n",
       "      <td>3.079201</td>\n",
       "    </tr>\n",
       "    <tr>\n",
       "      <th>0610007L01Rik_0610009O20Rik</th>\n",
       "      <td>0610007L01Rik</td>\n",
       "      <td>0610009O20Rik</td>\n",
       "      <td>0.076381</td>\n",
       "      <td>0.538233</td>\n",
       "    </tr>\n",
       "    <tr>\n",
       "      <th>0610007L01Rik_0610010K14Rik</th>\n",
       "      <td>0610007L01Rik</td>\n",
       "      <td>0610010K14Rik</td>\n",
       "      <td>0.015611</td>\n",
       "      <td>6.019151</td>\n",
       "    </tr>\n",
       "    <tr>\n",
       "      <th>0610007L01Rik_0910001L09Rik</th>\n",
       "      <td>0610007L01Rik</td>\n",
       "      <td>0910001L09Rik</td>\n",
       "      <td>0.018888</td>\n",
       "      <td>4.616741</td>\n",
       "    </tr>\n",
       "    <tr>\n",
       "      <th>0610007L01Rik_1100001G20Rik</th>\n",
       "      <td>0610007L01Rik</td>\n",
       "      <td>1100001G20Rik</td>\n",
       "      <td>0.055681</td>\n",
       "      <td>1.079058</td>\n",
       "    </tr>\n",
       "    <tr>\n",
       "      <th>...</th>\n",
       "      <td>...</td>\n",
       "      <td>...</td>\n",
       "      <td>...</td>\n",
       "      <td>...</td>\n",
       "    </tr>\n",
       "    <tr>\n",
       "      <th>AB124611_9830001H06Rik</th>\n",
       "      <td>AB124611</td>\n",
       "      <td>9830001H06Rik</td>\n",
       "      <td>0.176467</td>\n",
       "      <td>0.027640</td>\n",
       "    </tr>\n",
       "    <tr>\n",
       "      <th>AB124611_A030009H04Rik</th>\n",
       "      <td>AB124611</td>\n",
       "      <td>A030009H04Rik</td>\n",
       "      <td>0.202751</td>\n",
       "      <td>0.015841</td>\n",
       "    </tr>\n",
       "    <tr>\n",
       "      <th>AB124611_A930001N09Rik</th>\n",
       "      <td>AB124611</td>\n",
       "      <td>A930001N09Rik</td>\n",
       "      <td>0.237323</td>\n",
       "      <td>0.007936</td>\n",
       "    </tr>\n",
       "    <tr>\n",
       "      <th>AB124611_AA987161</th>\n",
       "      <td>AB124611</td>\n",
       "      <td>AA987161</td>\n",
       "      <td>0.233907</td>\n",
       "      <td>0.000000</td>\n",
       "    </tr>\n",
       "    <tr>\n",
       "      <th>AB124611_AB124611</th>\n",
       "      <td>AB124611</td>\n",
       "      <td>AB124611</td>\n",
       "      <td>0.125943</td>\n",
       "      <td>0.143422</td>\n",
       "    </tr>\n",
       "  </tbody>\n",
       "</table>\n",
       "<p>10000 rows × 4 columns</p>\n",
       "</div>"
      ],
      "text/plain": [
       "                                    ligand       receptor      dist  \\\n",
       "0610007L01Rik_0610007L01Rik  0610007L01Rik  0610007L01Rik  0.025171   \n",
       "0610007L01Rik_0610009O20Rik  0610007L01Rik  0610009O20Rik  0.076381   \n",
       "0610007L01Rik_0610010K14Rik  0610007L01Rik  0610010K14Rik  0.015611   \n",
       "0610007L01Rik_0910001L09Rik  0610007L01Rik  0910001L09Rik  0.018888   \n",
       "0610007L01Rik_1100001G20Rik  0610007L01Rik  1100001G20Rik  0.055681   \n",
       "...                                    ...            ...       ...   \n",
       "AB124611_9830001H06Rik            AB124611  9830001H06Rik  0.176467   \n",
       "AB124611_A030009H04Rik            AB124611  A030009H04Rik  0.202751   \n",
       "AB124611_A930001N09Rik            AB124611  A930001N09Rik  0.237323   \n",
       "AB124611_AA987161                 AB124611       AA987161  0.233907   \n",
       "AB124611_AB124611                 AB124611       AB124611  0.125943   \n",
       "\n",
       "                             correspondence  \n",
       "0610007L01Rik_0610007L01Rik        3.079201  \n",
       "0610007L01Rik_0610009O20Rik        0.538233  \n",
       "0610007L01Rik_0610010K14Rik        6.019151  \n",
       "0610007L01Rik_0910001L09Rik        4.616741  \n",
       "0610007L01Rik_1100001G20Rik        1.079058  \n",
       "...                                     ...  \n",
       "AB124611_9830001H06Rik             0.027640  \n",
       "AB124611_A030009H04Rik             0.015841  \n",
       "AB124611_A930001N09Rik             0.007936  \n",
       "AB124611_AA987161                  0.000000  \n",
       "AB124611_AB124611                  0.143422  \n",
       "\n",
       "[10000 rows x 4 columns]"
      ]
     },
     "execution_count": 6,
     "metadata": {},
     "output_type": "execute_result"
    }
   ],
   "source": [
    "xct_obj.aligned_dist"
   ]
  },
  {
   "cell_type": "code",
   "execution_count": 7,
   "id": "51d74be6-580d-454b-aa88-485b93f63a63",
   "metadata": {},
   "outputs": [
    {
     "name": "stdout",
     "output_type": "stream",
     "text": [
      "\n",
      "Total enriched: 0 / 10000\n"
     ]
    },
    {
     "data": {
      "image/png": "[encoded data removed]",
      "text/plain": [
       "<Figure size 432x288 with 1 Axes>"
      ]
     },
     "metadata": {
      "needs_background": "light"
     },
     "output_type": "display_data"
    },
    {
     "name": "stdout",
     "output_type": "stream",
     "text": [
      "Empty DataFrame\n",
      "Columns: [ligand, receptor, dist, correspondence, p_val, enriched_rank]\n",
      "Index: []\n"
     ]
    }
   ],
   "source": [
    "null_test_result = xct_obj.null_test(pct = 1, plot_result=True)\n",
    "print(null_test_result)"
   ]
  },
  {
   "cell_type": "code",
   "execution_count": 8,
   "id": "ad40a530-aaf7-41c6-a770-9892b94b983e",
   "metadata": {},
   "outputs": [
    {
     "data": {
      "text/html": [
       "<div>\n",
       "<style scoped>\n",
       "    .dataframe tbody tr th:only-of-type {\n",
       "        vertical-align: middle;\n",
       "    }\n",
       "\n",
       "    .dataframe tbody tr th {\n",
       "        vertical-align: top;\n",
       "    }\n",
       "\n",
       "    .dataframe thead th {\n",
       "        text-align: right;\n",
       "    }\n",
       "</style>\n",
       "<table border=\"1\" class=\"dataframe\">\n",
       "  <thead>\n",
       "    <tr style=\"text-align: right;\">\n",
       "      <th></th>\n",
       "      <th>ligand</th>\n",
       "      <th>receptor</th>\n",
       "      <th>dist</th>\n",
       "      <th>correspondence</th>\n",
       "      <th>p_val</th>\n",
       "      <th>enriched_rank</th>\n",
       "    </tr>\n",
       "  </thead>\n",
       "  <tbody>\n",
       "  </tbody>\n",
       "</table>\n",
       "</div>"
      ],
      "text/plain": [
       "Empty DataFrame\n",
       "Columns: [ligand, receptor, dist, correspondence, p_val, enriched_rank]\n",
       "Index: []"
      ]
     },
     "execution_count": 8,
     "metadata": {},
     "output_type": "execute_result"
    }
   ],
   "source": [
    "null_test_result"
   ]
  },
  {
   "cell_type": "code",
   "execution_count": 9,
   "id": "e87d8765-e509-4a00-b6df-cdb9a79fb21f",
   "metadata": {},
   "outputs": [
    {
     "data": {
      "text/plain": [
       "()"
      ]
     },
     "execution_count": 9,
     "metadata": {},
     "output_type": "execute_result"
    }
   ],
   "source": [
    "targets = get_Xct_pairs(null_test_result)\n",
    "targets"
   ]
  },
  {
   "cell_type": "code",
   "execution_count": null,
   "id": "d2b6829c-9df4-4dca-a2d8-bd6cf18ed1ae",
   "metadata": {
    "tags": []
   },
   "outputs": [],
   "source": [
    "a = 4\n",
    "\n",
    "s = xct_obj.plot_pcNet_graph(view='sender', gene_names=[targets[a][0]],\n",
    "                             top_edges=30, show = True, verbose = True)\n",
    "t = xct_obj.plot_pcNet_graph(view='sender', gene_names=[targets[a][1]], \n",
    "                             top_edges=30, show = True, verbose = True)\n",
    "\n",
    "x = plot_XNet(s, t, gene_pairs = [targets[a]], df_enriched=null_test_result)"
   ]
  },
  {
   "cell_type": "code",
   "execution_count": null,
   "id": "8216383d-ab5e-4273-b0af-9648f9c37d77",
   "metadata": {},
   "outputs": [],
   "source": [
    "targets"
   ]
  },
  {
   "cell_type": "code",
   "execution_count": null,
   "id": "cd57289a-e461-430f-9148-cbfab94db26c",
   "metadata": {},
   "outputs": [],
   "source": [
    "a = 4\n",
    "t = xct_obj.plot_pcNet_graph(view='sender', gene_names=[targets[a][1]], \n",
    "                             top_edges=30, show = True, verbose = True)"
   ]
  },
  {
   "cell_type": "code",
   "execution_count": null,
   "id": "4c866604-acfa-4566-b9d7-cb102e72fc02",
   "metadata": {},
   "outputs": [],
   "source": []
  }
 ],
 "metadata": {
  "kernelspec": {
   "display_name": "Python 3 (ipykernel)",
   "language": "python",
   "name": "python3"
  },
  "language_info": {
   "codemirror_mode": {
    "name": "ipython",
    "version": 3
   },
   "file_extension": ".py",
   "mimetype": "text/x-python",
   "name": "python",
   "nbconvert_exporter": "python",
   "pygments_lexer": "ipython3",
   "version": "3.9.7"
  }
 },
 "nbformat": 4,
 "nbformat_minor": 5
}
